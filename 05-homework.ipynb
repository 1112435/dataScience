{
 "cells": [
  {
   "cell_type": "markdown",
   "id": "af757516",
   "metadata": {},
   "source": [
    "Домашнее задание\n",
    "Для выполнения задач Easy и Normal опять используем данные Титаника\n",
    "\n",
    "Easy\n",
    "Вычислить вероятность выживания, если пассажиру:\n",
    "\n",
    "от 0 до 25 лет\n",
    "от 25 до 50 лет\n",
    "от 50 лет и старше"
   ]
  },
  {
   "cell_type": "code",
   "execution_count": 2,
   "id": "0904c34d",
   "metadata": {},
   "outputs": [],
   "source": [
    "import numpy as np\n",
    "import pandas as pd\n",
    "import matplotlib.pyplot as plt\n",
    "import seaborn as sns"
   ]
  },
  {
   "cell_type": "code",
   "execution_count": 3,
   "id": "dd72b46b",
   "metadata": {},
   "outputs": [],
   "source": [
    "titanic_df = pd.read_csv('train.csv')\n",
    "df = pd.read_csv('gender_submission.csv')\n",
    "tsd = pd.read_csv('test.csv')"
   ]
  },
  {
   "cell_type": "code",
   "execution_count": 4,
   "id": "957c7908",
   "metadata": {},
   "outputs": [
    {
     "data": {
      "text/plain": [
       "(0.34, 26.947]      319\n",
       "(26.947, 53.473]    345\n",
       "(53.473, 80.0]       50\n",
       "Name: AgeGroup, dtype: int64"
      ]
     },
     "execution_count": 4,
     "metadata": {},
     "output_type": "execute_result"
    }
   ],
   "source": [
    "titanic_df['AgeGroup'] = pd.cut (titanic_df ['Age'], 3) \n",
    "titanic_df.AgeGroup.value_counts(sort=False)"
   ]
  },
  {
   "cell_type": "code",
   "execution_count": 5,
   "id": "72a710ea",
   "metadata": {},
   "outputs": [
    {
     "data": {
      "text/html": [
       "<div>\n",
       "<style scoped>\n",
       "    .dataframe tbody tr th:only-of-type {\n",
       "        vertical-align: middle;\n",
       "    }\n",
       "\n",
       "    .dataframe tbody tr th {\n",
       "        vertical-align: top;\n",
       "    }\n",
       "\n",
       "    .dataframe thead th {\n",
       "        text-align: right;\n",
       "    }\n",
       "</style>\n",
       "<table border=\"1\" class=\"dataframe\">\n",
       "  <thead>\n",
       "    <tr style=\"text-align: right;\">\n",
       "      <th></th>\n",
       "      <th>Survived</th>\n",
       "    </tr>\n",
       "    <tr>\n",
       "      <th>AgeGroup</th>\n",
       "      <th></th>\n",
       "    </tr>\n",
       "  </thead>\n",
       "  <tbody>\n",
       "    <tr>\n",
       "      <th>(0.34, 26.947]</th>\n",
       "      <td>0.407524</td>\n",
       "    </tr>\n",
       "    <tr>\n",
       "      <th>(26.947, 53.473]</th>\n",
       "      <td>0.417391</td>\n",
       "    </tr>\n",
       "    <tr>\n",
       "      <th>(53.473, 80.0]</th>\n",
       "      <td>0.320000</td>\n",
       "    </tr>\n",
       "  </tbody>\n",
       "</table>\n",
       "</div>"
      ],
      "text/plain": [
       "                  Survived\n",
       "AgeGroup                  \n",
       "(0.34, 26.947]    0.407524\n",
       "(26.947, 53.473]  0.417391\n",
       "(53.473, 80.0]    0.320000"
      ]
     },
     "execution_count": 5,
     "metadata": {},
     "output_type": "execute_result"
    }
   ],
   "source": [
    "titanic_df.pivot_table(values='Survived',index='AgeGroup',aggfunc=np.mean)"
   ]
  },
  {
   "cell_type": "markdown",
   "id": "3809659b",
   "metadata": {},
   "source": [
    "Normal\n",
    "Вычислить с какой вероятностью пассажир женского пола, если известно, что он выжил (использовать теорему Байеса)\n"
   ]
  },
  {
   "cell_type": "code",
   "execution_count": 13,
   "id": "c55a9495",
   "metadata": {},
   "outputs": [],
   "source": [
    "woman = titanic_df[titanic_df[\"Sex\"]=='female'][\"PassengerId\"].count()"
   ]
  },
  {
   "cell_type": "code",
   "execution_count": 14,
   "id": "2b7956f0",
   "metadata": {},
   "outputs": [],
   "source": [
    "survivedWoman = titanic_df[(titanic_df[\"Sex\"]=='female')&(df[\"Survived\"]==1)][\"PassengerId\"].count()"
   ]
  },
  {
   "cell_type": "code",
   "execution_count": 15,
   "id": "3d5cb0c1",
   "metadata": {},
   "outputs": [],
   "source": [
    "survivalRate = titanic_df[(titanic_df[\"Survived\"]==1)][\"PassengerId\"].count()"
   ]
  },
  {
   "cell_type": "code",
   "execution_count": 16,
   "id": "dab93d9b",
   "metadata": {},
   "outputs": [],
   "source": [
    "total = titanic_df[\"PassengerId\"].count()"
   ]
  },
  {
   "cell_type": "code",
   "execution_count": 17,
   "id": "e1c0736d",
   "metadata": {},
   "outputs": [],
   "source": [
    "pw = woman / total\n",
    "psw = survivedWoman / woman\n",
    "ps = survivalRate / total"
   ]
  },
  {
   "cell_type": "code",
   "execution_count": 30,
   "id": "3d354438",
   "metadata": {},
   "outputs": [
    {
     "name": "stdout",
     "output_type": "stream",
     "text": [
      "50.87719298245614\n"
     ]
    }
   ],
   "source": [
    "pSurvavedWoman = (psw * pw) / ps\n",
    "print (pSurvavedWoman * 300)"
   ]
  }
 ],
 "metadata": {
  "kernelspec": {
   "display_name": "Python 3 (ipykernel)",
   "language": "python",
   "name": "python3"
  },
  "language_info": {
   "codemirror_mode": {
    "name": "ipython",
    "version": 3
   },
   "file_extension": ".py",
   "mimetype": "text/x-python",
   "name": "python",
   "nbconvert_exporter": "python",
   "pygments_lexer": "ipython3",
   "version": "3.9.12"
  }
 },
 "nbformat": 4,
 "nbformat_minor": 5
}
